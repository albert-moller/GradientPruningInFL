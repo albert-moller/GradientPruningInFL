{
 "cells": [
  {
   "cell_type": "code",
   "execution_count": 1,
   "metadata": {},
   "outputs": [],
   "source": [
    "from src.prepare import prepare\n",
    "from src.train_v2 import FederatedLearning\n",
    "import matplotlib.pyplot as plt\n",
    "import torch\n",
    "import numpy as np\n",
    "import random"
   ]
  },
  {
   "cell_type": "code",
   "execution_count": 2,
   "metadata": {},
   "outputs": [
    {
     "data": {
      "text/plain": [
       "<torch._C.Generator at 0x115f25070>"
      ]
     },
     "execution_count": 2,
     "metadata": {},
     "output_type": "execute_result"
    }
   ],
   "source": [
    "#Setting random seeds\n",
    "random.seed(41)\n",
    "np.random.seed(41)\n",
    "torch.manual_seed(41)"
   ]
  },
  {
   "cell_type": "markdown",
   "metadata": {},
   "source": [
    "### Baseline: Train LeNet on CIFAR-5 dataset and compute model utility metrics"
   ]
  },
  {
   "cell_type": "code",
   "execution_count": null,
   "metadata": {},
   "outputs": [],
   "source": [
    "iid_client_train_loader, device, criterion, validation_loader, train_loader, clients_dataset, global_model = prepare()\n",
    "federated_learning = FederatedLearning(\n",
    "                model = global_model,\n",
    "                clients_dataloaders = iid_client_train_loader,\n",
    "                num_clients_per_round=2,\n",
    "                num_local_epochs=10,\n",
    "                lr=5e-3,\n",
    "                max_rounds=10,\n",
    "                device=device,\n",
    "                criterion=criterion,\n",
    "                test_dataloader=validation_loader,\n",
    "                train_dataloader=train_loader,\n",
    "                filtered_train_dataset=clients_dataset,\n",
    "                alpha=None\n",
    "                )\n",
    "\n",
    "train_accuracy_baseline, val_accuracy_baseline, psnr_baseline, ssim_baseline = federated_learning.federated_learning_experiment()"
   ]
  },
  {
   "cell_type": "markdown",
   "metadata": {},
   "source": [
    "### Experiment: Train LeNet FedAVG on CIFAR-5 with PLGP for various alpha values and compute model utility metrics"
   ]
  },
  {
   "cell_type": "code",
   "execution_count": null,
   "metadata": {},
   "outputs": [],
   "source": [
    "#alpha = 0, threshold = 5%\n",
    "iid_client_train_loader, device, criterion, validation_loader, train_loader, clients_dataset, global_model = prepare()\n",
    "federated_learning = FederatedLearning(\n",
    "                model = global_model,\n",
    "                clients_dataloaders = iid_client_train_loader,\n",
    "                num_clients_per_round=2,\n",
    "                num_local_epochs=10,\n",
    "                lr=5e-3,\n",
    "                max_rounds=10,\n",
    "                device=device,\n",
    "                criterion=criterion,\n",
    "                test_dataloader=validation_loader,\n",
    "                train_dataloader=train_loader,\n",
    "                filtered_train_dataset=clients_dataset,\n",
    "                alpha=0\n",
    "                )\n",
    "\n",
    "train_accuracy_0_0_0, val_accuracy_0_0_0, psnr_baseline_0_0_0, ssim_baseline_0_0_0 = federated_learning.federated_learning_experiment()"
   ]
  },
  {
   "cell_type": "code",
   "execution_count": null,
   "metadata": {},
   "outputs": [],
   "source": [
    "#alpha = 0.05, threshold = 5%\n",
    "iid_client_train_loader, device, criterion, validation_loader, train_loader, clients_dataset, global_model = prepare()\n",
    "federated_learning = FederatedLearning(\n",
    "                model = global_model,\n",
    "                clients_dataloaders = iid_client_train_loader,\n",
    "                num_clients_per_round=2,\n",
    "                num_local_epochs=10,\n",
    "                lr=5e-3,\n",
    "                max_rounds=10,\n",
    "                device=device,\n",
    "                criterion=criterion,\n",
    "                test_dataloader=validation_loader,\n",
    "                train_dataloader=train_loader,\n",
    "                filtered_train_dataset=clients_dataset,\n",
    "                alpha=0.05\n",
    "                )\n",
    "\n",
    "train_accuracy_0_0_5, val_accuracy_0_0_5, psnr_baseline_0_0_5, ssim_baseline_0_0_5 = federated_learning.federated_learning_experiment()"
   ]
  },
  {
   "cell_type": "code",
   "execution_count": null,
   "metadata": {},
   "outputs": [],
   "source": [
    "#alpha = 0.10, threshold = 5%\n",
    "iid_client_train_loader, device, criterion, validation_loader, train_loader, clients_dataset, global_model = prepare()\n",
    "federated_learning = FederatedLearning(\n",
    "                model = global_model,\n",
    "                clients_dataloaders = iid_client_train_loader,\n",
    "                num_clients_per_round=2,\n",
    "                num_local_epochs=10,\n",
    "                lr=5e-3,\n",
    "                max_rounds=10,\n",
    "                device=device,\n",
    "                criterion=criterion,\n",
    "                test_dataloader=validation_loader,\n",
    "                train_dataloader=train_loader,\n",
    "                filtered_train_dataset=clients_dataset,\n",
    "                alpha=0.10\n",
    "                )\n",
    "\n",
    "train_accuracy_0_1_0, val_accuracy_0_1_0, psnr_baseline_0_1_0, ssim_baseline_0_1_0 = federated_learning.federated_learning_experiment()"
   ]
  },
  {
   "cell_type": "code",
   "execution_count": null,
   "metadata": {},
   "outputs": [],
   "source": [
    "#alpha = 0.15, threshold = 5%\n",
    "iid_client_train_loader, device, criterion, validation_loader, train_loader, clients_dataset, global_model = prepare()\n",
    "federated_learning = FederatedLearning(\n",
    "                model = global_model,\n",
    "                clients_dataloaders = iid_client_train_loader,\n",
    "                num_clients_per_round=2,\n",
    "                num_local_epochs=10,\n",
    "                lr=5e-3,\n",
    "                max_rounds=10,\n",
    "                device=device,\n",
    "                criterion=criterion,\n",
    "                test_dataloader=validation_loader,\n",
    "                train_dataloader=train_loader,\n",
    "                filtered_train_dataset=clients_dataset,\n",
    "                alpha=0.15\n",
    "                )\n",
    "\n",
    "train_accuracy_0_1_5, val_accuracy_0_1_5, psnr_baseline_0_1_5, ssim_baseline_0_1_5 = federated_learning.federated_learning_experiment()"
   ]
  },
  {
   "cell_type": "code",
   "execution_count": 8,
   "metadata": {},
   "outputs": [
    {
     "name": "stdout",
     "output_type": "stream",
     "text": [
      "Files already downloaded and verified\n",
      "Files already downloaded and verified\n"
     ]
    },
    {
     "name": "stderr",
     "output_type": "stream",
     "text": [
      "Reconstructing training images using iDLG:  80%|████████  | 20/25 [1:54:00<28:30, 342.02s/it]  \n"
     ]
    },
    {
     "ename": "KeyboardInterrupt",
     "evalue": "",
     "output_type": "error",
     "traceback": [
      "\u001b[0;31m---------------------------------------------------------------------------\u001b[0m",
      "\u001b[0;31mKeyboardInterrupt\u001b[0m                         Traceback (most recent call last)",
      "Cell \u001b[0;32mIn[8], line 18\u001b[0m\n\u001b[1;32m      2\u001b[0m iid_client_train_loader, device, criterion, validation_loader, train_loader, clients_dataset, global_model \u001b[38;5;241m=\u001b[39m prepare()\n\u001b[1;32m      3\u001b[0m federated_learning \u001b[38;5;241m=\u001b[39m FederatedLearning(\n\u001b[1;32m      4\u001b[0m                 model \u001b[38;5;241m=\u001b[39m global_model,\n\u001b[1;32m      5\u001b[0m                 clients_dataloaders \u001b[38;5;241m=\u001b[39m iid_client_train_loader,\n\u001b[0;32m   (...)\u001b[0m\n\u001b[1;32m     15\u001b[0m                 alpha\u001b[38;5;241m=\u001b[39m\u001b[38;5;241m0.20\u001b[39m\n\u001b[1;32m     16\u001b[0m                 )\n\u001b[0;32m---> 18\u001b[0m train_accuracy_0_2_0, val_accuracy_0_2_0, psnr_baseline_0_2_0, ssim_baseline_0_2_0 \u001b[38;5;241m=\u001b[39m \u001b[43mfederated_learning\u001b[49m\u001b[38;5;241;43m.\u001b[39;49m\u001b[43mfederated_learning_experiment\u001b[49m\u001b[43m(\u001b[49m\u001b[43m)\u001b[49m\n",
      "File \u001b[0;32m~/Library/Mobile Documents/com~apple~CloudDocs/Desktop/Bachelor Project/GradientPruningInFL/src/train_v2.py:206\u001b[0m, in \u001b[0;36mFederatedLearning.federated_learning_experiment\u001b[0;34m(self)\u001b[0m\n\u001b[1;32m    203\u001b[0m client_psnr \u001b[38;5;241m=\u001b[39m []\n\u001b[1;32m    205\u001b[0m \u001b[38;5;28;01mfor\u001b[39;00m index, client \u001b[38;5;129;01min\u001b[39;00m \u001b[38;5;28menumerate\u001b[39m(clients):\n\u001b[0;32m--> 206\u001b[0m     local_model, psnr, ssim \u001b[38;5;241m=\u001b[39m \u001b[38;5;28;43mself\u001b[39;49m\u001b[38;5;241;43m.\u001b[39;49m\u001b[43mtrain_client\u001b[49m\u001b[43m(\u001b[49m\u001b[43mclient\u001b[49m\u001b[43m,\u001b[49m\u001b[43m \u001b[49m\u001b[38;5;28;43mround\u001b[39;49m\u001b[43m,\u001b[49m\u001b[43m \u001b[49m\u001b[38;5;28;43mself\u001b[39;49m\u001b[38;5;241;43m.\u001b[39;49m\u001b[43mclients_dataloader\u001b[49m\u001b[43m[\u001b[49m\u001b[43mclient\u001b[49m\u001b[43m]\u001b[49m\u001b[43m,\u001b[49m\u001b[43m \u001b[49m\u001b[38;5;28;43mself\u001b[39;49m\u001b[38;5;241;43m.\u001b[39;49m\u001b[43mfiltered_train_dataset\u001b[49m\u001b[43m[\u001b[49m\u001b[43mclient\u001b[49m\u001b[43m]\u001b[49m\u001b[43m,\u001b[49m\u001b[43m \u001b[49m\u001b[43mglobal_model\u001b[49m\u001b[43m)\u001b[49m\n\u001b[1;32m    207\u001b[0m     running_avg \u001b[38;5;241m=\u001b[39m \u001b[38;5;28mself\u001b[39m\u001b[38;5;241m.\u001b[39mglobal_model_average(running_avg, local_model\u001b[38;5;241m.\u001b[39mstate_dict(), \u001b[38;5;241m1\u001b[39m\u001b[38;5;241m/\u001b[39m\u001b[38;5;28mself\u001b[39m\u001b[38;5;241m.\u001b[39mnum_clients_per_round) \n\u001b[1;32m    209\u001b[0m     \u001b[38;5;28;01mif\u001b[39;00m ssim \u001b[38;5;129;01mis\u001b[39;00m \u001b[38;5;129;01mnot\u001b[39;00m \u001b[38;5;28;01mNone\u001b[39;00m:\n",
      "File \u001b[0;32m~/Library/Mobile Documents/com~apple~CloudDocs/Desktop/Bachelor Project/GradientPruningInFL/src/train_v2.py:92\u001b[0m, in \u001b[0;36mFederatedLearning.train_client\u001b[0;34m(self, id, global_round_num, client_dataloader, filtered_dataset, global_model)\u001b[0m\n\u001b[1;32m     89\u001b[0m     gt_label \u001b[38;5;241m=\u001b[39m gt_label\u001b[38;5;241m.\u001b[39mview(\u001b[38;5;241m1\u001b[39m,)\n\u001b[1;32m     91\u001b[0m     idlg \u001b[38;5;241m=\u001b[39m ModifiediDLG(model \u001b[38;5;241m=\u001b[39m local_model, orig_img\u001b[38;5;241m=\u001b[39mimage, gt_data\u001b[38;5;241m=\u001b[39mgt_data,label\u001b[38;5;241m=\u001b[39mgt_label,device\u001b[38;5;241m=\u001b[39m\u001b[38;5;28mself\u001b[39m\u001b[38;5;241m.\u001b[39mdevice)\n\u001b[0;32m---> 92\u001b[0m     dummy_data, label_pred, history, losses, final_grad_diff, psnr_vals, ssim_vals \u001b[38;5;241m=\u001b[39m \u001b[43midlg\u001b[49m\u001b[38;5;241;43m.\u001b[39;49m\u001b[43mattack\u001b[49m\u001b[43m(\u001b[49m\u001b[43m)\u001b[49m\n\u001b[1;32m     93\u001b[0m     results[attempt] \u001b[38;5;241m=\u001b[39m (history[\u001b[38;5;241m-\u001b[39m\u001b[38;5;241m1\u001b[39m], final_grad_diff, psnr_vals[\u001b[38;5;241m-\u001b[39m\u001b[38;5;241m1\u001b[39m], ssim_vals[\u001b[38;5;241m-\u001b[39m\u001b[38;5;241m1\u001b[39m])\n\u001b[1;32m     95\u001b[0m best_attempt \u001b[38;5;241m=\u001b[39m \u001b[38;5;28mmin\u001b[39m(results, key\u001b[38;5;241m=\u001b[39m\u001b[38;5;28;01mlambda\u001b[39;00m attempt: results[attempt][\u001b[38;5;241m1\u001b[39m])\n",
      "File \u001b[0;32m~/Library/Mobile Documents/com~apple~CloudDocs/Desktop/Bachelor Project/GradientPruningInFL/src/train_convex_experiment.py:53\u001b[0m, in \u001b[0;36mModifiediDLG.attack\u001b[0;34m(self, seed)\u001b[0m\n\u001b[1;32m     50\u001b[0m     grad_diff\u001b[38;5;241m.\u001b[39mbackward()\n\u001b[1;32m     51\u001b[0m     \u001b[38;5;28;01mreturn\u001b[39;00m grad_diff\n\u001b[0;32m---> 53\u001b[0m \u001b[43moptimizer\u001b[49m\u001b[38;5;241;43m.\u001b[39;49m\u001b[43mstep\u001b[49m\u001b[43m(\u001b[49m\u001b[43mclosure\u001b[49m\u001b[43m)\u001b[49m\n\u001b[1;32m     55\u001b[0m \u001b[38;5;28;01mif\u001b[39;00m iters\u001b[38;5;241m%\u001b[39m\u001b[38;5;241m10\u001b[39m\u001b[38;5;241m==\u001b[39m\u001b[38;5;241m0\u001b[39m:\n\u001b[1;32m     56\u001b[0m     current_loss \u001b[38;5;241m=\u001b[39m closure()\n",
      "File \u001b[0;32m~/anaconda3/envs/FederatedLearning/lib/python3.9/site-packages/torch/optim/optimizer.py:373\u001b[0m, in \u001b[0;36mOptimizer.profile_hook_step.<locals>.wrapper\u001b[0;34m(*args, **kwargs)\u001b[0m\n\u001b[1;32m    368\u001b[0m         \u001b[38;5;28;01melse\u001b[39;00m:\n\u001b[1;32m    369\u001b[0m             \u001b[38;5;28;01mraise\u001b[39;00m \u001b[38;5;167;01mRuntimeError\u001b[39;00m(\n\u001b[1;32m    370\u001b[0m                 \u001b[38;5;124mf\u001b[39m\u001b[38;5;124m\"\u001b[39m\u001b[38;5;132;01m{\u001b[39;00mfunc\u001b[38;5;132;01m}\u001b[39;00m\u001b[38;5;124m must return None or a tuple of (new_args, new_kwargs), but got \u001b[39m\u001b[38;5;132;01m{\u001b[39;00mresult\u001b[38;5;132;01m}\u001b[39;00m\u001b[38;5;124m.\u001b[39m\u001b[38;5;124m\"\u001b[39m\n\u001b[1;32m    371\u001b[0m             )\n\u001b[0;32m--> 373\u001b[0m out \u001b[38;5;241m=\u001b[39m \u001b[43mfunc\u001b[49m\u001b[43m(\u001b[49m\u001b[38;5;241;43m*\u001b[39;49m\u001b[43margs\u001b[49m\u001b[43m,\u001b[49m\u001b[43m \u001b[49m\u001b[38;5;241;43m*\u001b[39;49m\u001b[38;5;241;43m*\u001b[39;49m\u001b[43mkwargs\u001b[49m\u001b[43m)\u001b[49m\n\u001b[1;32m    374\u001b[0m \u001b[38;5;28mself\u001b[39m\u001b[38;5;241m.\u001b[39m_optimizer_step_code()\n\u001b[1;32m    376\u001b[0m \u001b[38;5;66;03m# call optimizer step post hooks\u001b[39;00m\n",
      "File \u001b[0;32m~/anaconda3/envs/FederatedLearning/lib/python3.9/site-packages/torch/utils/_contextlib.py:115\u001b[0m, in \u001b[0;36mcontext_decorator.<locals>.decorate_context\u001b[0;34m(*args, **kwargs)\u001b[0m\n\u001b[1;32m    112\u001b[0m \u001b[38;5;129m@functools\u001b[39m\u001b[38;5;241m.\u001b[39mwraps(func)\n\u001b[1;32m    113\u001b[0m \u001b[38;5;28;01mdef\u001b[39;00m \u001b[38;5;21mdecorate_context\u001b[39m(\u001b[38;5;241m*\u001b[39margs, \u001b[38;5;241m*\u001b[39m\u001b[38;5;241m*\u001b[39mkwargs):\n\u001b[1;32m    114\u001b[0m     \u001b[38;5;28;01mwith\u001b[39;00m ctx_factory():\n\u001b[0;32m--> 115\u001b[0m         \u001b[38;5;28;01mreturn\u001b[39;00m \u001b[43mfunc\u001b[49m\u001b[43m(\u001b[49m\u001b[38;5;241;43m*\u001b[39;49m\u001b[43margs\u001b[49m\u001b[43m,\u001b[49m\u001b[43m \u001b[49m\u001b[38;5;241;43m*\u001b[39;49m\u001b[38;5;241;43m*\u001b[39;49m\u001b[43mkwargs\u001b[49m\u001b[43m)\u001b[49m\n",
      "File \u001b[0;32m~/anaconda3/envs/FederatedLearning/lib/python3.9/site-packages/torch/optim/lbfgs.py:438\u001b[0m, in \u001b[0;36mLBFGS.step\u001b[0;34m(self, closure)\u001b[0m\n\u001b[1;32m    433\u001b[0m \u001b[38;5;28;01mif\u001b[39;00m n_iter \u001b[38;5;241m!=\u001b[39m max_iter:\n\u001b[1;32m    434\u001b[0m     \u001b[38;5;66;03m# re-evaluate function only if not in last iteration\u001b[39;00m\n\u001b[1;32m    435\u001b[0m     \u001b[38;5;66;03m# the reason we do this: in a stochastic setting,\u001b[39;00m\n\u001b[1;32m    436\u001b[0m     \u001b[38;5;66;03m# no use to re-evaluate that function here\u001b[39;00m\n\u001b[1;32m    437\u001b[0m     \u001b[38;5;28;01mwith\u001b[39;00m torch\u001b[38;5;241m.\u001b[39menable_grad():\n\u001b[0;32m--> 438\u001b[0m         loss \u001b[38;5;241m=\u001b[39m \u001b[38;5;28mfloat\u001b[39m(\u001b[43mclosure\u001b[49m\u001b[43m(\u001b[49m\u001b[43m)\u001b[49m)\n\u001b[1;32m    439\u001b[0m     flat_grad \u001b[38;5;241m=\u001b[39m \u001b[38;5;28mself\u001b[39m\u001b[38;5;241m.\u001b[39m_gather_flat_grad()\n\u001b[1;32m    440\u001b[0m     opt_cond \u001b[38;5;241m=\u001b[39m flat_grad\u001b[38;5;241m.\u001b[39mabs()\u001b[38;5;241m.\u001b[39mmax() \u001b[38;5;241m<\u001b[39m\u001b[38;5;241m=\u001b[39m tolerance_grad\n",
      "File \u001b[0;32m~/anaconda3/envs/FederatedLearning/lib/python3.9/site-packages/torch/utils/_contextlib.py:115\u001b[0m, in \u001b[0;36mcontext_decorator.<locals>.decorate_context\u001b[0;34m(*args, **kwargs)\u001b[0m\n\u001b[1;32m    112\u001b[0m \u001b[38;5;129m@functools\u001b[39m\u001b[38;5;241m.\u001b[39mwraps(func)\n\u001b[1;32m    113\u001b[0m \u001b[38;5;28;01mdef\u001b[39;00m \u001b[38;5;21mdecorate_context\u001b[39m(\u001b[38;5;241m*\u001b[39margs, \u001b[38;5;241m*\u001b[39m\u001b[38;5;241m*\u001b[39mkwargs):\n\u001b[1;32m    114\u001b[0m     \u001b[38;5;28;01mwith\u001b[39;00m ctx_factory():\n\u001b[0;32m--> 115\u001b[0m         \u001b[38;5;28;01mreturn\u001b[39;00m \u001b[43mfunc\u001b[49m\u001b[43m(\u001b[49m\u001b[38;5;241;43m*\u001b[39;49m\u001b[43margs\u001b[49m\u001b[43m,\u001b[49m\u001b[43m \u001b[49m\u001b[38;5;241;43m*\u001b[39;49m\u001b[38;5;241;43m*\u001b[39;49m\u001b[43mkwargs\u001b[49m\u001b[43m)\u001b[49m\n",
      "File \u001b[0;32m~/Library/Mobile Documents/com~apple~CloudDocs/Desktop/Bachelor Project/GradientPruningInFL/src/train_convex_experiment.py:46\u001b[0m, in \u001b[0;36mModifiediDLG.attack.<locals>.closure\u001b[0;34m()\u001b[0m\n\u001b[1;32m     44\u001b[0m dummy_pred \u001b[38;5;241m=\u001b[39m \u001b[38;5;28mself\u001b[39m\u001b[38;5;241m.\u001b[39mmodel(dummy_data)\n\u001b[1;32m     45\u001b[0m dummy_loss \u001b[38;5;241m=\u001b[39m \u001b[38;5;28mself\u001b[39m\u001b[38;5;241m.\u001b[39mcriterion(dummy_pred, label_pred)\n\u001b[0;32m---> 46\u001b[0m dummy_dy_dx \u001b[38;5;241m=\u001b[39m \u001b[43mtorch\u001b[49m\u001b[38;5;241;43m.\u001b[39;49m\u001b[43mautograd\u001b[49m\u001b[38;5;241;43m.\u001b[39;49m\u001b[43mgrad\u001b[49m\u001b[43m(\u001b[49m\u001b[43mdummy_loss\u001b[49m\u001b[43m,\u001b[49m\u001b[43m \u001b[49m\u001b[38;5;28;43mself\u001b[39;49m\u001b[38;5;241;43m.\u001b[39;49m\u001b[43mmodel\u001b[49m\u001b[38;5;241;43m.\u001b[39;49m\u001b[43mparameters\u001b[49m\u001b[43m(\u001b[49m\u001b[43m)\u001b[49m\u001b[43m,\u001b[49m\u001b[43m \u001b[49m\u001b[43mcreate_graph\u001b[49m\u001b[38;5;241;43m=\u001b[39;49m\u001b[38;5;28;43;01mTrue\u001b[39;49;00m\u001b[43m)\u001b[49m\n\u001b[1;32m     47\u001b[0m grad_diff \u001b[38;5;241m=\u001b[39m \u001b[38;5;241m0\u001b[39m\n\u001b[1;32m     48\u001b[0m \u001b[38;5;28;01mfor\u001b[39;00m gx, gy \u001b[38;5;129;01min\u001b[39;00m \u001b[38;5;28mzip\u001b[39m(dummy_dy_dx, orig_dy_dx):\n",
      "File \u001b[0;32m~/anaconda3/envs/FederatedLearning/lib/python3.9/site-packages/torch/autograd/__init__.py:394\u001b[0m, in \u001b[0;36mgrad\u001b[0;34m(outputs, inputs, grad_outputs, retain_graph, create_graph, only_inputs, allow_unused, is_grads_batched, materialize_grads)\u001b[0m\n\u001b[1;32m    390\u001b[0m     result \u001b[38;5;241m=\u001b[39m _vmap_internals\u001b[38;5;241m.\u001b[39m_vmap(vjp, \u001b[38;5;241m0\u001b[39m, \u001b[38;5;241m0\u001b[39m, allow_none_pass_through\u001b[38;5;241m=\u001b[39m\u001b[38;5;28;01mTrue\u001b[39;00m)(\n\u001b[1;32m    391\u001b[0m         grad_outputs_\n\u001b[1;32m    392\u001b[0m     )\n\u001b[1;32m    393\u001b[0m \u001b[38;5;28;01melse\u001b[39;00m:\n\u001b[0;32m--> 394\u001b[0m     result \u001b[38;5;241m=\u001b[39m \u001b[43mVariable\u001b[49m\u001b[38;5;241;43m.\u001b[39;49m\u001b[43m_execution_engine\u001b[49m\u001b[38;5;241;43m.\u001b[39;49m\u001b[43mrun_backward\u001b[49m\u001b[43m(\u001b[49m\u001b[43m  \u001b[49m\u001b[38;5;66;43;03m# Calls into the C++ engine to run the backward pass\u001b[39;49;00m\n\u001b[1;32m    395\u001b[0m \u001b[43m        \u001b[49m\u001b[43mt_outputs\u001b[49m\u001b[43m,\u001b[49m\n\u001b[1;32m    396\u001b[0m \u001b[43m        \u001b[49m\u001b[43mgrad_outputs_\u001b[49m\u001b[43m,\u001b[49m\n\u001b[1;32m    397\u001b[0m \u001b[43m        \u001b[49m\u001b[43mretain_graph\u001b[49m\u001b[43m,\u001b[49m\n\u001b[1;32m    398\u001b[0m \u001b[43m        \u001b[49m\u001b[43mcreate_graph\u001b[49m\u001b[43m,\u001b[49m\n\u001b[1;32m    399\u001b[0m \u001b[43m        \u001b[49m\u001b[43mt_inputs\u001b[49m\u001b[43m,\u001b[49m\n\u001b[1;32m    400\u001b[0m \u001b[43m        \u001b[49m\u001b[43mallow_unused\u001b[49m\u001b[43m,\u001b[49m\n\u001b[1;32m    401\u001b[0m \u001b[43m        \u001b[49m\u001b[43maccumulate_grad\u001b[49m\u001b[38;5;241;43m=\u001b[39;49m\u001b[38;5;28;43;01mFalse\u001b[39;49;00m\u001b[43m,\u001b[49m\n\u001b[1;32m    402\u001b[0m \u001b[43m    \u001b[49m\u001b[43m)\u001b[49m  \u001b[38;5;66;03m# Calls into the C++ engine to run the backward pass\u001b[39;00m\n\u001b[1;32m    403\u001b[0m \u001b[38;5;28;01mif\u001b[39;00m materialize_grads:\n\u001b[1;32m    404\u001b[0m     result \u001b[38;5;241m=\u001b[39m \u001b[38;5;28mtuple\u001b[39m(\n\u001b[1;32m    405\u001b[0m         output\n\u001b[1;32m    406\u001b[0m         \u001b[38;5;28;01mif\u001b[39;00m output \u001b[38;5;129;01mis\u001b[39;00m \u001b[38;5;129;01mnot\u001b[39;00m \u001b[38;5;28;01mNone\u001b[39;00m\n\u001b[1;32m    407\u001b[0m         \u001b[38;5;28;01melse\u001b[39;00m torch\u001b[38;5;241m.\u001b[39mzeros_like(\u001b[38;5;28minput\u001b[39m, requires_grad\u001b[38;5;241m=\u001b[39m\u001b[38;5;28;01mTrue\u001b[39;00m)\n\u001b[1;32m    408\u001b[0m         \u001b[38;5;28;01mfor\u001b[39;00m (output, \u001b[38;5;28minput\u001b[39m) \u001b[38;5;129;01min\u001b[39;00m \u001b[38;5;28mzip\u001b[39m(result, t_inputs)\n\u001b[1;32m    409\u001b[0m     )\n",
      "\u001b[0;31mKeyboardInterrupt\u001b[0m: "
     ]
    }
   ],
   "source": [
    "#alpha = 0.20, threshold = 5%\n",
    "iid_client_train_loader, device, criterion, validation_loader, train_loader, clients_dataset, global_model = prepare()\n",
    "federated_learning = FederatedLearning(\n",
    "                model = global_model,\n",
    "                clients_dataloaders = iid_client_train_loader,\n",
    "                num_clients_per_round=2,\n",
    "                num_local_epochs=10,\n",
    "                lr=5e-3,\n",
    "                max_rounds=10,\n",
    "                device=device,\n",
    "                criterion=criterion,\n",
    "                test_dataloader=validation_loader,\n",
    "                train_dataloader=train_loader,\n",
    "                filtered_train_dataset=clients_dataset,\n",
    "                alpha=0.20\n",
    "                )\n",
    "\n",
    "train_accuracy_0_2_0, val_accuracy_0_2_0, psnr_baseline_0_2_0, ssim_baseline_0_2_0 = federated_learning.federated_learning_experiment()"
   ]
  },
  {
   "cell_type": "code",
   "execution_count": null,
   "metadata": {},
   "outputs": [],
   "source": [
    "#alpha = 0.25, threshold = 5%\n",
    "iid_client_train_loader, device, criterion, validation_loader, train_loader, clients_dataset, global_model = prepare()\n",
    "federated_learning = FederatedLearning(\n",
    "                model = global_model,\n",
    "                clients_dataloaders = iid_client_train_loader,\n",
    "                num_clients_per_round=2,\n",
    "                num_local_epochs=10,\n",
    "                lr=5e-3,\n",
    "                max_rounds=10,\n",
    "                device=device,\n",
    "                criterion=criterion,\n",
    "                test_dataloader=validation_loader,\n",
    "                train_dataloader=train_loader,\n",
    "                filtered_train_dataset=clients_dataset,\n",
    "                alpha=0.25\n",
    "                )\n",
    "\n",
    "train_accuracy_0_2_5, val_accuracy_0_2_5, psnr_baseline_0_2_5, ssim_baseline_0_2_5 = federated_learning.federated_learning_experiment()"
   ]
  }
 ],
 "metadata": {
  "kernelspec": {
   "display_name": "FederatedLearning",
   "language": "python",
   "name": "python3"
  },
  "language_info": {
   "codemirror_mode": {
    "name": "ipython",
    "version": 3
   },
   "file_extension": ".py",
   "mimetype": "text/x-python",
   "name": "python",
   "nbconvert_exporter": "python",
   "pygments_lexer": "ipython3",
   "version": "3.9.18"
  }
 },
 "nbformat": 4,
 "nbformat_minor": 2
}
