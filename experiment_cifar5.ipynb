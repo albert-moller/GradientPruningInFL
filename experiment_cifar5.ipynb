{
 "cells": [
  {
   "cell_type": "code",
   "execution_count": 1,
   "metadata": {},
   "outputs": [],
   "source": [
    "from src.dataset import CIFARDataset, iid_dataloader\n",
    "from src.lenet import LeNet, weights_init\n",
    "from src.train import federated_learning_experiment, train_client\n",
    "from torchvision import datasets, transforms\n",
    "from torch.autograd import grad\n",
    "import os\n",
    "import numpy as np\n",
    "from pprint import pprint\n",
    "from PIL import Image\n",
    "import matplotlib.pyplot as plt\n",
    "import torch\n",
    "import torch.nn as nn\n",
    "import torch.nn.functional as F"
   ]
  },
  {
   "cell_type": "markdown",
   "metadata": {},
   "source": [
    "##### Train LeNet on CIFAR-10 using Federated Averaging"
   ]
  },
  {
   "cell_type": "code",
   "execution_count": 2,
   "metadata": {},
   "outputs": [
    {
     "name": "stdout",
     "output_type": "stream",
     "text": [
      "Files already downloaded and verified\n",
      "Files already downloaded and verified\n",
      "Round 0 is starting\n",
      "Clients for round 0 are: [2 0]\n",
      "round 0, starting client 1/2, id: 2\n",
      "round 0, starting client 2/2, id: 0\n",
      "Round 0, validation accuracy: 13.719999999999999 %\n",
      "Round 1 is starting\n",
      "Clients for round 1 are: [3 4]\n",
      "round 1, starting client 1/2, id: 3\n",
      "round 1, starting client 2/2, id: 4\n",
      "Round 1, validation accuracy: 43.480000000000004 %\n",
      "Round 2 is starting\n",
      "Clients for round 2 are: [0 2]\n",
      "round 2, starting client 1/2, id: 0\n",
      "round 2, starting client 2/2, id: 2\n",
      "Round 2, validation accuracy: 51.67 %\n",
      "Round 3 is starting\n",
      "Clients for round 3 are: [3 0]\n",
      "round 3, starting client 1/2, id: 3\n",
      "round 3, starting client 2/2, id: 0\n",
      "Round 3, validation accuracy: 52.33 %\n",
      "Round 4 is starting\n",
      "Clients for round 4 are: [4 2]\n",
      "round 4, starting client 1/2, id: 4\n",
      "round 4, starting client 2/2, id: 2\n",
      "Round 4, validation accuracy: 54.0 %\n"
     ]
    }
   ],
   "source": [
    "device = device = 'cuda' if torch.cuda.is_available() else 'cpu'\n",
    "criterion = nn.CrossEntropyLoss().to(device)\n",
    "\n",
    "batch_size = 50\n",
    "num_clients = 5\n",
    "cifar_data = CIFARDataset(batch_size=batch_size, num_clients=num_clients, top_5_classes_indices=None)\n",
    "train_dataset, validation_dataset, user_groups = cifar_data.get_dataset()\n",
    "\n",
    "alpha = 1\n",
    "\n",
    "train_subset_size = int(alpha * len(train_dataset))\n",
    "validation_subset_size = int(alpha * len(validation_dataset))\n",
    "\n",
    "train_dataset = torch.utils.data.Subset(train_dataset, indices=range(train_subset_size))\n",
    "validation_dataset = torch.utils.data.Subset(validation_dataset, indices=range(validation_subset_size))\n",
    "\n",
    "iid_client_train_loader = iid_dataloader(train_dataset, batch_size=batch_size, num_clients=num_clients)\n",
    "validation_loader = torch.utils.data.DataLoader(validation_dataset, batch_size=batch_size, shuffle=False)\n",
    "\n",
    "global_model = LeNet().to(device)\n",
    "\n",
    "results = federated_learning_experiment(global_model, num_clients_per_round=2, num_local_epochs=10, lr = 5e-3, client_train_loader=iid_client_train_loader, max_rounds=5, device=device, criterion=criterion, test_dataloader=validation_loader)"
   ]
  },
  {
   "cell_type": "markdown",
   "metadata": {},
   "source": [
    "##### Construct confusion matrix"
   ]
  },
  {
   "cell_type": "code",
   "execution_count": 4,
   "metadata": {},
   "outputs": [],
   "source": [
    "from sklearn.metrics import confusion_matrix\n",
    "import numpy as np\n",
    "\n",
    "global_model.eval()\n",
    "all_predictions = []\n",
    "all_true_labels = []\n",
    "\n",
    "with torch.no_grad():\n",
    "    for imgs, labels in validation_loader:\n",
    "        imgs = imgs.to(device)\n",
    "        labels = labels.to(device)\n",
    "        outputs = global_model(imgs)\n",
    "        _, predicted = torch.max(outputs, 1)\n",
    "        all_predictions.extend(predicted.cpu().numpy())\n",
    "        all_true_labels.extend(labels.cpu().numpy())\n",
    "\n",
    "conf_matrix = confusion_matrix(all_true_labels, all_predictions)"
   ]
  },
  {
   "cell_type": "markdown",
   "metadata": {},
   "source": [
    "##### Construct CIFAR-5 dataset for better classification performance"
   ]
  },
  {
   "cell_type": "code",
   "execution_count": 6,
   "metadata": {},
   "outputs": [
    {
     "name": "stdout",
     "output_type": "stream",
     "text": [
      "Top 5 classes with the highest classification accuracy: [0 9 6 1 8]\n"
     ]
    }
   ],
   "source": [
    "class_accuracies = np.diag(conf_matrix) / np.sum(conf_matrix, axis=1)\n",
    "top_5_classes_indices = np.argsort(class_accuracies)[-5:]\n",
    "print(f\"Top 5 classes with the highest classification accuracy: {top_5_classes_indices}\")"
   ]
  },
  {
   "cell_type": "markdown",
   "metadata": {},
   "source": [
    "##### Train LeNet on CIFAR-5 using Federated Averaging"
   ]
  },
  {
   "cell_type": "code",
   "execution_count": 7,
   "metadata": {},
   "outputs": [
    {
     "name": "stdout",
     "output_type": "stream",
     "text": [
      "Files already downloaded and verified\n",
      "Files already downloaded and verified\n",
      "Round 0 is starting\n",
      "Clients for round 0 are: [4 0]\n",
      "round 0, starting client 1/2, id: 4\n",
      "round 0, starting client 2/2, id: 0\n",
      "Round 0, validation accuracy: 61.18 %\n",
      "Round 1 is starting\n",
      "Clients for round 1 are: [3 1]\n",
      "round 1, starting client 1/2, id: 3\n",
      "round 1, starting client 2/2, id: 1\n",
      "Round 1, validation accuracy: 69.39999999999999 %\n",
      "Round 2 is starting\n",
      "Clients for round 2 are: [2 1]\n",
      "round 2, starting client 1/2, id: 2\n",
      "round 2, starting client 2/2, id: 1\n",
      "Round 2, validation accuracy: 70.02000000000001 %\n",
      "Round 3 is starting\n",
      "Clients for round 3 are: [4 1]\n",
      "round 3, starting client 1/2, id: 4\n",
      "round 3, starting client 2/2, id: 1\n",
      "Round 3, validation accuracy: 71.12 %\n",
      "Round 4 is starting\n",
      "Clients for round 4 are: [0 1]\n",
      "round 4, starting client 1/2, id: 0\n",
      "round 4, starting client 2/2, id: 1\n",
      "Round 4, validation accuracy: 71.64 %\n"
     ]
    }
   ],
   "source": [
    "device = device = 'cuda' if torch.cuda.is_available() else 'cpu'\n",
    "criterion = nn.CrossEntropyLoss().to(device)\n",
    "\n",
    "batch_size = 50\n",
    "num_clients = 5\n",
    "cifar_data = CIFARDataset(batch_size=batch_size, num_clients=num_clients, top_5_classes_indices=top_5_classes_indices)\n",
    "train_dataset, validation_dataset, user_groups = cifar_data.get_dataset()\n",
    "\n",
    "alpha = 1\n",
    "\n",
    "train_subset_size = int(alpha * len(train_dataset))\n",
    "validation_subset_size = int(alpha * len(validation_dataset))\n",
    "\n",
    "train_dataset = torch.utils.data.Subset(train_dataset, indices=range(train_subset_size))\n",
    "validation_dataset = torch.utils.data.Subset(validation_dataset, indices=range(validation_subset_size))\n",
    "\n",
    "iid_client_train_loader = iid_dataloader(train_dataset, batch_size=batch_size, num_clients=num_clients)\n",
    "validation_loader = torch.utils.data.DataLoader(validation_dataset, batch_size=batch_size, shuffle=False)\n",
    "\n",
    "global_model = LeNet().to(device)\n",
    "\n",
    "results = federated_learning_experiment(global_model, num_clients_per_round=2, num_local_epochs=10, lr = 5e-3, client_train_loader=iid_client_train_loader, max_rounds=5, device=device, criterion=criterion, test_dataloader=validation_loader)"
   ]
  }
 ],
 "metadata": {
  "kernelspec": {
   "display_name": "FederatedLearning",
   "language": "python",
   "name": "python3"
  },
  "language_info": {
   "codemirror_mode": {
    "name": "ipython",
    "version": 3
   },
   "file_extension": ".py",
   "mimetype": "text/x-python",
   "name": "python",
   "nbconvert_exporter": "python",
   "pygments_lexer": "ipython3",
   "version": "3.9.18"
  }
 },
 "nbformat": 4,
 "nbformat_minor": 2
}
